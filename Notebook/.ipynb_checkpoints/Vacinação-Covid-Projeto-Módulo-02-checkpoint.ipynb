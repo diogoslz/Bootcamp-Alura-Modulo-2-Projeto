{
 "cells": [
  {
   "cell_type": "markdown",
   "metadata": {},
   "source": [
    "## Análise de Dados Sobre Vacinação Covid"
   ]
  },
  {
   "cell_type": "markdown",
   "metadata": {},
   "source": [
    "<img src=\"https://imagens.ebc.com.br/ysgCkEBOsVLDaMJWqxiA224C3RQ=/1170x700/smart/https://agenciabrasil.ebc.com.br/sites/default/files/thumbnails/image/vacinacao-parque-da-cidade_mcamgo_abr_180220211818-15.jpg?itok=cWf0--EE\">"
   ]
  },
  {
   "cell_type": "markdown",
   "metadata": {},
   "source": [
    "## 1. Introdução"
   ]
  },
  {
   "cell_type": "markdown",
   "metadata": {},
   "source": [
    "Este projeto de ciência de dados tem como objetivo analisar os dados de vacinação e mortes, para verificar o impacto da vacinação no número de mortes por Covid no Brasil. Uma vez que a <b> Covid-19</b> é uma doença nova e a ciência está no início das análises desses dados para avaliar suas implicações, posto que <b>nunca</b> houve vacinação em escala mundial para combater esta doença tão terrível, que vem assolando toda a humanidade. "
   ]
  },
  {
   "cell_type": "markdown",
   "metadata": {},
   "source": [
    "## 2. Descrição dos Dados"
   ]
  },
  {
   "cell_type": "markdown",
   "metadata": {},
   "source": [
    "Foram coletados dois datasets para a realização das análises de vacinação e mortes por Covid-19 no Brasil:\n",
    "\n",
    "- Os dados sobre a vacinação da Covid-19 foram coletados no [Github do Our World in Data](https://github.com/owid), uma organização que trabalha com vários pesquisadores em volta do mundo com o objetivo de tornar o conhecimento dos grandes problemas acessível e compreensível.\n",
    "\n",
    "\n",
    "- Os dados de morte por Covid-19 no Brasil são do [Portal da Transparência do Registro Cívil](https://transparencia.registrocivil.org.br/), dados estes que foram consolidados e disponibilizados no [Github de Marcelo Oliveira](https://github.com/capyvara), conhecido por ser um cientista de dados do [Grupo Infovid](https://twitter.com/grupo_infovid) (grupo interdisciplinar dedicado a divulgação de informações científicas e enfrentamento de desinformações sobre a COVID-19)."
   ]
  },
  {
   "cell_type": "markdown",
   "metadata": {},
   "source": [
    "## 3. Importação de Bibliotecas"
   ]
  },
  {
   "cell_type": "code",
   "execution_count": 1,
   "metadata": {},
   "outputs": [],
   "source": [
    "import pandas as pd # biblioteca para trabalhar com os dados\n",
    "import numpy as np \n",
    "import seaborn as sns # biblioteca para visualização de dados\n",
    "import matplotlib.pyplot as plt\n",
    "import matplotlib.ticker as ticker\n",
    "import datetime # biblioteca para trabalhar com dados do tipo Data e Hora.\n",
    "import warnings\n",
    "warnings.filterwarnings('ignore')\n",
    "\n",
    "pd.options.display.float_format = \"{:.2f}\".format ## Formatar números para o tipo float nos gráficos"
   ]
  },
  {
   "cell_type": "markdown",
   "metadata": {},
   "source": [
    "## 4. Número da Vacinação x Mortes no Brasil"
   ]
  },
  {
   "cell_type": "markdown",
   "metadata": {},
   "source": [
    "### 4.1. Carregamento dos Dados"
   ]
  },
  {
   "cell_type": "markdown",
   "metadata": {},
   "source": [
    "Para o carregamento dos dados no formato ``csv`` armazenados nos githubs, utilizamos a função ``read_csv`` do pandas. Utilizamos os parâmetros ``parse_date`` e ``date_parser``, para convertermos os dados da coluna ``date`` para o tipo ``datetime64[ns]`` nos nossos datasets, para que o ``seaborn`` (biblioteca python para visualização de dados) saiba lidar melhor com esses dados e melhorar a visualização dos gráficos."
   ]
  },
  {
   "cell_type": "code",
   "execution_count": 2,
   "metadata": {
    "scrolled": true
   },
   "outputs": [],
   "source": [
    "dateparse = lambda x: datetime.datetime.strptime(x, '%Y-%m-%d')\n",
    "\n",
    "dados_covid = pd.read_csv(\"https://raw.githubusercontent.com/owid/covid-19-data/master/public/data/owid-covid-data.csv\",\n",
    "                    encoding=\"ISO-8859-1\", sep=\",\",\n",
    "                    thousands=\".\", decimal=\",\", parse_dates=['date'], date_parser=dateparse)"
   ]
  },
  {
   "cell_type": "code",
   "execution_count": 3,
   "metadata": {},
   "outputs": [],
   "source": [
    "mortes_covid_br = pd.read_csv('https://raw.githubusercontent.com/capyvara/brazil-civil-registry-data/master/civil_registry_covid_cities_detailed.csv',\n",
    "                    encoding=\"utf-8\", sep=\",\",\n",
    "                    thousands=\".\", decimal=\",\", parse_dates=['date'], date_parser=dateparse)"
   ]
  },
  {
   "cell_type": "code",
   "execution_count": 4,
   "metadata": {},
   "outputs": [
    {
     "data": {
      "text/html": [
       "<div>\n",
       "<style scoped>\n",
       "    .dataframe tbody tr th:only-of-type {\n",
       "        vertical-align: middle;\n",
       "    }\n",
       "\n",
       "    .dataframe tbody tr th {\n",
       "        vertical-align: top;\n",
       "    }\n",
       "\n",
       "    .dataframe thead th {\n",
       "        text-align: right;\n",
       "    }\n",
       "</style>\n",
       "<table border=\"1\" class=\"dataframe\">\n",
       "  <thead>\n",
       "    <tr style=\"text-align: right;\">\n",
       "      <th></th>\n",
       "      <th>iso_code</th>\n",
       "      <th>continent</th>\n",
       "      <th>location</th>\n",
       "      <th>date</th>\n",
       "      <th>total_cases</th>\n",
       "      <th>new_cases</th>\n",
       "      <th>new_cases_smoothed</th>\n",
       "      <th>total_deaths</th>\n",
       "      <th>new_deaths</th>\n",
       "      <th>new_deaths_smoothed</th>\n",
       "      <th>...</th>\n",
       "      <th>extreme_poverty</th>\n",
       "      <th>cardiovasc_death_rate</th>\n",
       "      <th>diabetes_prevalence</th>\n",
       "      <th>female_smokers</th>\n",
       "      <th>male_smokers</th>\n",
       "      <th>handwashing_facilities</th>\n",
       "      <th>hospital_beds_per_thousand</th>\n",
       "      <th>life_expectancy</th>\n",
       "      <th>human_development_index</th>\n",
       "      <th>excess_mortality</th>\n",
       "    </tr>\n",
       "  </thead>\n",
       "  <tbody>\n",
       "    <tr>\n",
       "      <th>0</th>\n",
       "      <td>AFG</td>\n",
       "      <td>Asia</td>\n",
       "      <td>Afghanistan</td>\n",
       "      <td>2020-02-24</td>\n",
       "      <td>10.00</td>\n",
       "      <td>10.00</td>\n",
       "      <td>nan</td>\n",
       "      <td>nan</td>\n",
       "      <td>nan</td>\n",
       "      <td>nan</td>\n",
       "      <td>...</td>\n",
       "      <td>nan</td>\n",
       "      <td>597029.00</td>\n",
       "      <td>959.00</td>\n",
       "      <td>nan</td>\n",
       "      <td>nan</td>\n",
       "      <td>37746.00</td>\n",
       "      <td>5.00</td>\n",
       "      <td>6483.00</td>\n",
       "      <td>511.00</td>\n",
       "      <td>nan</td>\n",
       "    </tr>\n",
       "    <tr>\n",
       "      <th>1</th>\n",
       "      <td>AFG</td>\n",
       "      <td>Asia</td>\n",
       "      <td>Afghanistan</td>\n",
       "      <td>2020-02-25</td>\n",
       "      <td>10.00</td>\n",
       "      <td>0.00</td>\n",
       "      <td>nan</td>\n",
       "      <td>nan</td>\n",
       "      <td>nan</td>\n",
       "      <td>nan</td>\n",
       "      <td>...</td>\n",
       "      <td>nan</td>\n",
       "      <td>597029.00</td>\n",
       "      <td>959.00</td>\n",
       "      <td>nan</td>\n",
       "      <td>nan</td>\n",
       "      <td>37746.00</td>\n",
       "      <td>5.00</td>\n",
       "      <td>6483.00</td>\n",
       "      <td>511.00</td>\n",
       "      <td>nan</td>\n",
       "    </tr>\n",
       "    <tr>\n",
       "      <th>2</th>\n",
       "      <td>AFG</td>\n",
       "      <td>Asia</td>\n",
       "      <td>Afghanistan</td>\n",
       "      <td>2020-02-26</td>\n",
       "      <td>10.00</td>\n",
       "      <td>0.00</td>\n",
       "      <td>nan</td>\n",
       "      <td>nan</td>\n",
       "      <td>nan</td>\n",
       "      <td>nan</td>\n",
       "      <td>...</td>\n",
       "      <td>nan</td>\n",
       "      <td>597029.00</td>\n",
       "      <td>959.00</td>\n",
       "      <td>nan</td>\n",
       "      <td>nan</td>\n",
       "      <td>37746.00</td>\n",
       "      <td>5.00</td>\n",
       "      <td>6483.00</td>\n",
       "      <td>511.00</td>\n",
       "      <td>nan</td>\n",
       "    </tr>\n",
       "    <tr>\n",
       "      <th>3</th>\n",
       "      <td>AFG</td>\n",
       "      <td>Asia</td>\n",
       "      <td>Afghanistan</td>\n",
       "      <td>2020-02-27</td>\n",
       "      <td>10.00</td>\n",
       "      <td>0.00</td>\n",
       "      <td>nan</td>\n",
       "      <td>nan</td>\n",
       "      <td>nan</td>\n",
       "      <td>nan</td>\n",
       "      <td>...</td>\n",
       "      <td>nan</td>\n",
       "      <td>597029.00</td>\n",
       "      <td>959.00</td>\n",
       "      <td>nan</td>\n",
       "      <td>nan</td>\n",
       "      <td>37746.00</td>\n",
       "      <td>5.00</td>\n",
       "      <td>6483.00</td>\n",
       "      <td>511.00</td>\n",
       "      <td>nan</td>\n",
       "    </tr>\n",
       "    <tr>\n",
       "      <th>4</th>\n",
       "      <td>AFG</td>\n",
       "      <td>Asia</td>\n",
       "      <td>Afghanistan</td>\n",
       "      <td>2020-02-28</td>\n",
       "      <td>10.00</td>\n",
       "      <td>0.00</td>\n",
       "      <td>nan</td>\n",
       "      <td>nan</td>\n",
       "      <td>nan</td>\n",
       "      <td>nan</td>\n",
       "      <td>...</td>\n",
       "      <td>nan</td>\n",
       "      <td>597029.00</td>\n",
       "      <td>959.00</td>\n",
       "      <td>nan</td>\n",
       "      <td>nan</td>\n",
       "      <td>37746.00</td>\n",
       "      <td>5.00</td>\n",
       "      <td>6483.00</td>\n",
       "      <td>511.00</td>\n",
       "      <td>nan</td>\n",
       "    </tr>\n",
       "  </tbody>\n",
       "</table>\n",
       "<p>5 rows × 60 columns</p>\n",
       "</div>"
      ],
      "text/plain": [
       "  iso_code continent     location       date  total_cases  new_cases  \\\n",
       "0      AFG      Asia  Afghanistan 2020-02-24        10.00      10.00   \n",
       "1      AFG      Asia  Afghanistan 2020-02-25        10.00       0.00   \n",
       "2      AFG      Asia  Afghanistan 2020-02-26        10.00       0.00   \n",
       "3      AFG      Asia  Afghanistan 2020-02-27        10.00       0.00   \n",
       "4      AFG      Asia  Afghanistan 2020-02-28        10.00       0.00   \n",
       "\n",
       "   new_cases_smoothed  total_deaths  new_deaths  new_deaths_smoothed  ...  \\\n",
       "0                 nan           nan         nan                  nan  ...   \n",
       "1                 nan           nan         nan                  nan  ...   \n",
       "2                 nan           nan         nan                  nan  ...   \n",
       "3                 nan           nan         nan                  nan  ...   \n",
       "4                 nan           nan         nan                  nan  ...   \n",
       "\n",
       "   extreme_poverty  cardiovasc_death_rate  diabetes_prevalence  \\\n",
       "0              nan              597029.00               959.00   \n",
       "1              nan              597029.00               959.00   \n",
       "2              nan              597029.00               959.00   \n",
       "3              nan              597029.00               959.00   \n",
       "4              nan              597029.00               959.00   \n",
       "\n",
       "   female_smokers  male_smokers  handwashing_facilities  \\\n",
       "0             nan           nan                37746.00   \n",
       "1             nan           nan                37746.00   \n",
       "2             nan           nan                37746.00   \n",
       "3             nan           nan                37746.00   \n",
       "4             nan           nan                37746.00   \n",
       "\n",
       "   hospital_beds_per_thousand  life_expectancy  human_development_index  \\\n",
       "0                        5.00          6483.00                   511.00   \n",
       "1                        5.00          6483.00                   511.00   \n",
       "2                        5.00          6483.00                   511.00   \n",
       "3                        5.00          6483.00                   511.00   \n",
       "4                        5.00          6483.00                   511.00   \n",
       "\n",
       "   excess_mortality  \n",
       "0               nan  \n",
       "1               nan  \n",
       "2               nan  \n",
       "3               nan  \n",
       "4               nan  \n",
       "\n",
       "[5 rows x 60 columns]"
      ]
     },
     "execution_count": 4,
     "metadata": {},
     "output_type": "execute_result"
    }
   ],
   "source": [
    "dados_covid.head()"
   ]
  },
  {
   "cell_type": "code",
   "execution_count": 5,
   "metadata": {},
   "outputs": [
    {
     "data": {
      "text/html": [
       "<div>\n",
       "<style scoped>\n",
       "    .dataframe tbody tr th:only-of-type {\n",
       "        vertical-align: middle;\n",
       "    }\n",
       "\n",
       "    .dataframe tbody tr th {\n",
       "        vertical-align: top;\n",
       "    }\n",
       "\n",
       "    .dataframe thead th {\n",
       "        text-align: right;\n",
       "    }\n",
       "</style>\n",
       "<table border=\"1\" class=\"dataframe\">\n",
       "  <thead>\n",
       "    <tr style=\"text-align: right;\">\n",
       "      <th></th>\n",
       "      <th>date</th>\n",
       "      <th>state</th>\n",
       "      <th>state_ibge_code</th>\n",
       "      <th>city</th>\n",
       "      <th>city_ibge_code</th>\n",
       "      <th>place</th>\n",
       "      <th>gender</th>\n",
       "      <th>age_group</th>\n",
       "      <th>deaths_sars</th>\n",
       "      <th>deaths_pneumonia</th>\n",
       "      <th>...</th>\n",
       "      <th>deaths_others</th>\n",
       "      <th>deaths_covid19</th>\n",
       "      <th>deaths_stroke</th>\n",
       "      <th>deaths_stroke_covid19</th>\n",
       "      <th>deaths_cardiopathy</th>\n",
       "      <th>deaths_cardiogenic_shock</th>\n",
       "      <th>deaths_heart_attack</th>\n",
       "      <th>deaths_heart_attack_covid19</th>\n",
       "      <th>deaths_sudden_cardiac</th>\n",
       "      <th>created_at</th>\n",
       "    </tr>\n",
       "  </thead>\n",
       "  <tbody>\n",
       "    <tr>\n",
       "      <th>0</th>\n",
       "      <td>2019-01-01</td>\n",
       "      <td>AC</td>\n",
       "      <td>12</td>\n",
       "      <td>Rio Branco</td>\n",
       "      <td>1200401</td>\n",
       "      <td>hospital</td>\n",
       "      <td>F</td>\n",
       "      <td>80-89</td>\n",
       "      <td>nan</td>\n",
       "      <td>nan</td>\n",
       "      <td>...</td>\n",
       "      <td>nan</td>\n",
       "      <td>nan</td>\n",
       "      <td>nan</td>\n",
       "      <td>nan</td>\n",
       "      <td>nan</td>\n",
       "      <td>nan</td>\n",
       "      <td>1.00</td>\n",
       "      <td>nan</td>\n",
       "      <td>nan</td>\n",
       "      <td>2021-04-03 11:56:00</td>\n",
       "    </tr>\n",
       "    <tr>\n",
       "      <th>1</th>\n",
       "      <td>2019-01-01</td>\n",
       "      <td>AC</td>\n",
       "      <td>12</td>\n",
       "      <td>Rio Branco</td>\n",
       "      <td>1200401</td>\n",
       "      <td>hospital</td>\n",
       "      <td>M</td>\n",
       "      <td>30-39</td>\n",
       "      <td>nan</td>\n",
       "      <td>nan</td>\n",
       "      <td>...</td>\n",
       "      <td>1.00</td>\n",
       "      <td>nan</td>\n",
       "      <td>nan</td>\n",
       "      <td>nan</td>\n",
       "      <td>nan</td>\n",
       "      <td>nan</td>\n",
       "      <td>nan</td>\n",
       "      <td>nan</td>\n",
       "      <td>nan</td>\n",
       "      <td>2021-05-01 15:33:00</td>\n",
       "    </tr>\n",
       "    <tr>\n",
       "      <th>2</th>\n",
       "      <td>2019-01-01</td>\n",
       "      <td>AC</td>\n",
       "      <td>12</td>\n",
       "      <td>Rio Branco</td>\n",
       "      <td>1200401</td>\n",
       "      <td>hospital</td>\n",
       "      <td>M</td>\n",
       "      <td>50-59</td>\n",
       "      <td>nan</td>\n",
       "      <td>nan</td>\n",
       "      <td>...</td>\n",
       "      <td>nan</td>\n",
       "      <td>nan</td>\n",
       "      <td>1.00</td>\n",
       "      <td>nan</td>\n",
       "      <td>nan</td>\n",
       "      <td>nan</td>\n",
       "      <td>nan</td>\n",
       "      <td>nan</td>\n",
       "      <td>nan</td>\n",
       "      <td>2021-05-01 15:33:00</td>\n",
       "    </tr>\n",
       "    <tr>\n",
       "      <th>3</th>\n",
       "      <td>2019-01-01</td>\n",
       "      <td>AC</td>\n",
       "      <td>12</td>\n",
       "      <td>Rio Branco</td>\n",
       "      <td>1200401</td>\n",
       "      <td>hospital</td>\n",
       "      <td>M</td>\n",
       "      <td>80-89</td>\n",
       "      <td>nan</td>\n",
       "      <td>nan</td>\n",
       "      <td>...</td>\n",
       "      <td>nan</td>\n",
       "      <td>nan</td>\n",
       "      <td>nan</td>\n",
       "      <td>nan</td>\n",
       "      <td>nan</td>\n",
       "      <td>nan</td>\n",
       "      <td>nan</td>\n",
       "      <td>nan</td>\n",
       "      <td>nan</td>\n",
       "      <td>2021-05-01 15:33:00</td>\n",
       "    </tr>\n",
       "    <tr>\n",
       "      <th>4</th>\n",
       "      <td>2019-01-01</td>\n",
       "      <td>AC</td>\n",
       "      <td>12</td>\n",
       "      <td>Rio Branco</td>\n",
       "      <td>1200401</td>\n",
       "      <td>hospital</td>\n",
       "      <td>M</td>\n",
       "      <td>9-</td>\n",
       "      <td>nan</td>\n",
       "      <td>1.00</td>\n",
       "      <td>...</td>\n",
       "      <td>nan</td>\n",
       "      <td>nan</td>\n",
       "      <td>nan</td>\n",
       "      <td>nan</td>\n",
       "      <td>nan</td>\n",
       "      <td>nan</td>\n",
       "      <td>nan</td>\n",
       "      <td>nan</td>\n",
       "      <td>nan</td>\n",
       "      <td>2021-05-01 15:33:00</td>\n",
       "    </tr>\n",
       "  </tbody>\n",
       "</table>\n",
       "<p>5 rows × 23 columns</p>\n",
       "</div>"
      ],
      "text/plain": [
       "        date state  state_ibge_code        city  city_ibge_code     place  \\\n",
       "0 2019-01-01    AC               12  Rio Branco         1200401  hospital   \n",
       "1 2019-01-01    AC               12  Rio Branco         1200401  hospital   \n",
       "2 2019-01-01    AC               12  Rio Branco         1200401  hospital   \n",
       "3 2019-01-01    AC               12  Rio Branco         1200401  hospital   \n",
       "4 2019-01-01    AC               12  Rio Branco         1200401  hospital   \n",
       "\n",
       "  gender age_group  deaths_sars  deaths_pneumonia  ...  deaths_others  \\\n",
       "0      F     80-89          nan               nan  ...            nan   \n",
       "1      M     30-39          nan               nan  ...           1.00   \n",
       "2      M     50-59          nan               nan  ...            nan   \n",
       "3      M     80-89          nan               nan  ...            nan   \n",
       "4      M        9-          nan              1.00  ...            nan   \n",
       "\n",
       "   deaths_covid19  deaths_stroke  deaths_stroke_covid19  deaths_cardiopathy  \\\n",
       "0             nan            nan                    nan                 nan   \n",
       "1             nan            nan                    nan                 nan   \n",
       "2             nan           1.00                    nan                 nan   \n",
       "3             nan            nan                    nan                 nan   \n",
       "4             nan            nan                    nan                 nan   \n",
       "\n",
       "   deaths_cardiogenic_shock  deaths_heart_attack  deaths_heart_attack_covid19  \\\n",
       "0                       nan                 1.00                          nan   \n",
       "1                       nan                  nan                          nan   \n",
       "2                       nan                  nan                          nan   \n",
       "3                       nan                  nan                          nan   \n",
       "4                       nan                  nan                          nan   \n",
       "\n",
       "   deaths_sudden_cardiac           created_at  \n",
       "0                    nan  2021-04-03 11:56:00  \n",
       "1                    nan  2021-05-01 15:33:00  \n",
       "2                    nan  2021-05-01 15:33:00  \n",
       "3                    nan  2021-05-01 15:33:00  \n",
       "4                    nan  2021-05-01 15:33:00  \n",
       "\n",
       "[5 rows x 23 columns]"
      ]
     },
     "execution_count": 5,
     "metadata": {},
     "output_type": "execute_result"
    }
   ],
   "source": [
    "mortes_covid_br.head()"
   ]
  },
  {
   "cell_type": "markdown",
   "metadata": {},
   "source": [
    "Utilizamos a função ``info`` do pandas, visualização das colunas e seus tipos carregados em ``dataframes`` (objeto da biblioteca do pandas para manipulação dos dados):"
   ]
  },
  {
   "cell_type": "code",
   "execution_count": 6,
   "metadata": {},
   "outputs": [
    {
     "name": "stdout",
     "output_type": "stream",
     "text": [
      "<class 'pandas.core.frame.DataFrame'>\n",
      "RangeIndex: 95271 entries, 0 to 95270\n",
      "Data columns (total 60 columns):\n",
      " #   Column                                 Non-Null Count  Dtype         \n",
      "---  ------                                 --------------  -----         \n",
      " 0   iso_code                               95271 non-null  object        \n",
      " 1   continent                              90773 non-null  object        \n",
      " 2   location                               95271 non-null  object        \n",
      " 3   date                                   95271 non-null  datetime64[ns]\n",
      " 4   total_cases                            92162 non-null  float64       \n",
      " 5   new_cases                              92159 non-null  float64       \n",
      " 6   new_cases_smoothed                     91149 non-null  float64       \n",
      " 7   total_deaths                           82167 non-null  float64       \n",
      " 8   new_deaths                             82323 non-null  float64       \n",
      " 9   new_deaths_smoothed                    91149 non-null  float64       \n",
      " 10  total_cases_per_million                91670 non-null  float64       \n",
      " 11  new_cases_per_million                  91667 non-null  float64       \n",
      " 12  new_cases_smoothed_per_million         90662 non-null  float64       \n",
      " 13  total_deaths_per_million               81688 non-null  float64       \n",
      " 14  new_deaths_per_million                 81844 non-null  float64       \n",
      " 15  new_deaths_smoothed_per_million        90662 non-null  float64       \n",
      " 16  reproduction_rate                      76495 non-null  float64       \n",
      " 17  icu_patients                           9637 non-null   float64       \n",
      " 18  icu_patients_per_million               9637 non-null   float64       \n",
      " 19  hosp_patients                          11982 non-null  float64       \n",
      " 20  hosp_patients_per_million              11982 non-null  float64       \n",
      " 21  weekly_icu_admissions                  874 non-null    float64       \n",
      " 22  weekly_icu_admissions_per_million      874 non-null    float64       \n",
      " 23  weekly_hosp_admissions                 1509 non-null   float64       \n",
      " 24  weekly_hosp_admissions_per_million     1509 non-null   float64       \n",
      " 25  new_tests                              42952 non-null  float64       \n",
      " 26  total_tests                            42648 non-null  float64       \n",
      " 27  total_tests_per_thousand               42648 non-null  float64       \n",
      " 28  new_tests_per_thousand                 42952 non-null  float64       \n",
      " 29  new_tests_smoothed                     49823 non-null  float64       \n",
      " 30  new_tests_smoothed_per_thousand        49823 non-null  float64       \n",
      " 31  positive_rate                          46972 non-null  float64       \n",
      " 32  tests_per_case                         46373 non-null  float64       \n",
      " 33  tests_units                            51458 non-null  object        \n",
      " 34  total_vaccinations                     14312 non-null  float64       \n",
      " 35  people_vaccinated                      13525 non-null  float64       \n",
      " 36  people_fully_vaccinated                10732 non-null  float64       \n",
      " 37  new_vaccinations                       11969 non-null  float64       \n",
      " 38  new_vaccinations_smoothed              24609 non-null  float64       \n",
      " 39  total_vaccinations_per_hundred         14312 non-null  float64       \n",
      " 40  people_vaccinated_per_hundred          13525 non-null  float64       \n",
      " 41  people_fully_vaccinated_per_hundred    10732 non-null  float64       \n",
      " 42  new_vaccinations_smoothed_per_million  24609 non-null  float64       \n",
      " 43  stringency_index                       80078 non-null  float64       \n",
      " 44  population                             94645 non-null  float64       \n",
      " 45  population_density                     88579 non-null  float64       \n",
      " 46  median_age                             85376 non-null  float64       \n",
      " 47  aged_65_older                          84414 non-null  float64       \n",
      " 48  aged_70_older                          84903 non-null  float64       \n",
      " 49  gdp_per_capita                         85662 non-null  float64       \n",
      " 50  extreme_poverty                        57893 non-null  float64       \n",
      " 51  cardiovasc_death_rate                  85767 non-null  float64       \n",
      " 52  diabetes_prevalence                    87842 non-null  float64       \n",
      " 53  female_smokers                         67123 non-null  float64       \n",
      " 54  male_smokers                           66140 non-null  float64       \n",
      " 55  handwashing_facilities                 43093 non-null  float64       \n",
      " 56  hospital_beds_per_thousand             78175 non-null  float64       \n",
      " 57  life_expectancy                        90467 non-null  float64       \n",
      " 58  human_development_index                85932 non-null  float64       \n",
      " 59  excess_mortality                       3406 non-null   float64       \n",
      "dtypes: datetime64[ns](1), float64(55), object(4)\n",
      "memory usage: 43.6+ MB\n"
     ]
    }
   ],
   "source": [
    "dados_covid.info()"
   ]
  },
  {
   "cell_type": "code",
   "execution_count": 7,
   "metadata": {
    "scrolled": true
   },
   "outputs": [
    {
     "name": "stdout",
     "output_type": "stream",
     "text": [
      "<class 'pandas.core.frame.DataFrame'>\n",
      "RangeIndex: 560444 entries, 0 to 560443\n",
      "Data columns (total 23 columns):\n",
      " #   Column                       Non-Null Count   Dtype         \n",
      "---  ------                       --------------   -----         \n",
      " 0   date                         560444 non-null  datetime64[ns]\n",
      " 1   state                        560444 non-null  object        \n",
      " 2   state_ibge_code              560444 non-null  int64         \n",
      " 3   city                         560444 non-null  object        \n",
      " 4   city_ibge_code               560444 non-null  int64         \n",
      " 5   place                        560444 non-null  object        \n",
      " 6   gender                       560444 non-null  object        \n",
      " 7   age_group                    549923 non-null  object        \n",
      " 8   deaths_sars                  10612 non-null   float64       \n",
      " 9   deaths_pneumonia             118358 non-null  float64       \n",
      " 10  deaths_respiratory_failure   59858 non-null   float64       \n",
      " 11  deaths_septicemia            114869 non-null  float64       \n",
      " 12  deaths_indeterminate         5967 non-null    float64       \n",
      " 13  deaths_others                281632 non-null  float64       \n",
      " 14  deaths_covid19               82744 non-null   float64       \n",
      " 15  deaths_stroke                73872 non-null   float64       \n",
      " 16  deaths_stroke_covid19        39883 non-null   float64       \n",
      " 17  deaths_cardiopathy           27521 non-null   float64       \n",
      " 18  deaths_cardiogenic_shock     30850 non-null   float64       \n",
      " 19  deaths_heart_attack          68077 non-null   float64       \n",
      " 20  deaths_heart_attack_covid19  3758 non-null    float64       \n",
      " 21  deaths_sudden_cardiac        7310 non-null    float64       \n",
      " 22  created_at                   560444 non-null  object        \n",
      "dtypes: datetime64[ns](1), float64(14), int64(2), object(6)\n",
      "memory usage: 98.3+ MB\n"
     ]
    }
   ],
   "source": [
    "mortes_covid_br.info()"
   ]
  },
  {
   "cell_type": "markdown",
   "metadata": {},
   "source": [
    "Ao executar a função ``info``  observamos várias informações que poderíamos utilizar nas análises. \n",
    "\n",
    "Para as análises vacinação e mortes no Brasil, utilizaremos os dados das colunas nos dados extraídos do <b>Our World in Data</b>:\n",
    "\n",
    "- <b>date (data da vacinação):</b> Para analisarmos a evolução da vacinação ao passar do tempo;\n",
    "- <b>location (localização ou país da vacinação): </b> Para selecionar somente a quantidade de pessoas vacinadas no Brasil;\n",
    "- <b>people_vaccinated (total de pessoas vacinadas)</b>: Para analisar a quantidade de pessoas vacinadas;\n",
    "- <b>people_vaccinated_per_hundred (percentual pessoas vacinadas)</b>: Para analisar o percentual de pessoas vacinadas no Brasil.\n",
    "\n",
    "- <b>new_deaths (novas mortes por covid-19)</b>: Para analisar a quantidade de novas mortes de pessoas por covid-19 no Brasil.\n",
    "\n",
    "\n",
    "Para as análises de morte causada por Covid-19 agrupado por faixa etária do <b>Registro Cívil</b>, utilizaremos os dados:\n",
    "\n",
    "- <b>date (data do registro da morte):</b> Para analisarmos a evolução das mortes por Covid-19 ao passar do tempo;\n",
    "- <b>age_group (Faixa Etária): </b> Para analisarmos as mortes por faixa etária no Brasil;\n",
    "- <b> state (Estado): </b> Para analisarmos as mortes por Estado;\n",
    "- <b> city (Cidade): </b> Para analisarmos as mortes por Cidade;\n",
    "- <b> deaths_covid19 (total de pessoas mortas)</b>: Para contabilizar as pessoas mortas por Covid-19 no Brasil;\n"
   ]
  },
  {
   "cell_type": "markdown",
   "metadata": {},
   "source": [
    "### 4.2. Análise"
   ]
  },
  {
   "cell_type": "code",
   "execution_count": 8,
   "metadata": {},
   "outputs": [
    {
     "data": {
      "text/plain": [
       "229"
      ]
     },
     "execution_count": 8,
     "metadata": {},
     "output_type": "execute_result"
    }
   ],
   "source": [
    "len(dados_covid['location'].unique())"
   ]
  },
  {
   "cell_type": "markdown",
   "metadata": {},
   "source": [
    "Com a função ``len`` utilizada em conjunto com o função ``unique`` na coluna <b>location</b>, podemos verificar que na coluna <b>location</b> do nosso dataset de vacinação não está somente agrupado por países, uma vez que temos somente <b>195 países</b> no mundo (registrados na ONU). "
   ]
  },
  {
   "cell_type": "code",
   "execution_count": 9,
   "metadata": {
    "scrolled": false
   },
   "outputs": [
    {
     "data": {
      "text/plain": [
       "array(['AC', 'AL', 'AM', 'AP', 'BA', 'CE', 'DF', 'ES', 'GO', 'MA', 'MG',\n",
       "       'MS', 'MT', 'PA', 'PB', 'PE', 'PI', 'PR', 'RJ', 'RN', 'RO', 'RR',\n",
       "       'RS', 'SC', 'SE', 'SP', 'TO'], dtype=object)"
      ]
     },
     "execution_count": 9,
     "metadata": {},
     "output_type": "execute_result"
    }
   ],
   "source": [
    "mortes_covid_br['state'].unique()"
   ]
  },
  {
   "cell_type": "code",
   "execution_count": 10,
   "metadata": {},
   "outputs": [
    {
     "data": {
      "text/plain": [
       "27"
      ]
     },
     "execution_count": 10,
     "metadata": {},
     "output_type": "execute_result"
    }
   ],
   "source": [
    "len(mortes_covid_br['state'].unique())"
   ]
  },
  {
   "cell_type": "markdown",
   "metadata": {},
   "source": [
    "Utilizando as funções ``unique`` e ``len`` na coluna ``state`` podemos verificar também, que nosso dataset de mortes por covid no Brasil está completo com informações dos nossos <b>26 estados e 1 distríto federal</b>."
   ]
  },
  {
   "cell_type": "code",
   "execution_count": 11,
   "metadata": {},
   "outputs": [
    {
     "data": {
      "text/plain": [
       "array(['Rio Branco', 'Maceió', 'Manaus', 'Macapá', 'Feira de Santana',\n",
       "       'Salvador', 'Fortaleza', 'Brasília', 'Serra', 'Vitória',\n",
       "       'Aparecida de Goiânia', 'Goiânia', 'São Luís', 'Belo Horizonte',\n",
       "       'Contagem', 'Juiz de Fora', 'Uberlândia', 'Campo Grande', 'Cuiabá',\n",
       "       'Ananindeua', 'Belém', 'João Pessoa', 'Jaboatão dos Guararapes',\n",
       "       'Recife', 'Teresina', 'Curitiba', 'Londrina', 'Belford Roxo',\n",
       "       'Campos dos Goytacazes', 'Duque de Caxias', 'Niterói',\n",
       "       'Nova Iguaçu', 'Rio de Janeiro', 'São Gonçalo', 'Natal',\n",
       "       'Porto Velho', 'Boa Vista', 'Caxias do Sul', 'Porto Alegre',\n",
       "       'Florianópolis', 'Joinville', 'Aracaju', 'Botucatu', 'Campinas',\n",
       "       'Guarulhos', 'Osasco', 'Ribeirão Preto', 'Santo André', 'Serrana',\n",
       "       'Sorocaba', 'São Bernardo do Campo', 'São José dos Campos',\n",
       "       'São Paulo', 'Palmas'], dtype=object)"
      ]
     },
     "execution_count": 11,
     "metadata": {},
     "output_type": "execute_result"
    }
   ],
   "source": [
    "mortes_covid_br['city'].unique()"
   ]
  },
  {
   "cell_type": "code",
   "execution_count": 12,
   "metadata": {},
   "outputs": [
    {
     "data": {
      "text/plain": [
       "54"
      ]
     },
     "execution_count": 12,
     "metadata": {},
     "output_type": "execute_result"
    }
   ],
   "source": [
    "len(mortes_covid_br['city'].unique())"
   ]
  },
  {
   "cell_type": "markdown",
   "metadata": {},
   "source": [
    "Utilizando função ``unique`` e ``len`` na coluna ``city`` podemos verificar que nosso dataset de mortes por covid no Brasil, contém somente dados de mortes em <b>54 cidades</b> do Brasil."
   ]
  },
  {
   "cell_type": "markdown",
   "metadata": {},
   "source": [
    "Vamos analisar a relação de vacinação do Brasil com outros países, para isto, precisaremos <b> excluir</b> dados de informações na coluna <b>locate</b> de agrupamentos de países, senão, estaremos retornando dados redundantes, e comparando países com continentes:\n",
    "\n",
    "- <b>World</b>: agrupamento de vacinados no mundo.\n",
    "- <b>Asia</b>: agrupamento de vacinados de paises no continente da Ásia.\n",
    "- <b>North America:</b> agrupamento de vacinados de paises no continente da América do Norte.\n",
    "- <b>Europa:</b> agrupamento de vacinados de paises na continente da Europa.\n",
    "- <b>South America:</b> agrupamento de vacinados de paises na continente da América do Sul\n",
    "- <b>Africa: </b> agrupamento de vacinados de paises  na continente da África.\n",
    "- <b>United Kingdom:</b> agrupamento de vacinados de paises do Reino Unido (formado pelos países: Inglaterra, País de Gales, Irlanda do Norte e Escócia)\n",
    "- <b>European Union:</b> agrupamento de vacinados de paises na União Européia.\n",
    "- <b> Lower middle income:</b> agrupamento dos países menos desenvolvidos.\n",
    "- <b> Upper middle income:</b> agrupamento dos países mais desenvolvidos."
   ]
  },
  {
   "cell_type": "code",
   "execution_count": 13,
   "metadata": {},
   "outputs": [],
   "source": [
    "exclusao = ['World','Asia','High income','Upper middle income','North America','Europe','Lower middle income','European Union','South America','United Kingdom','Africa']"
   ]
  },
  {
   "cell_type": "markdown",
   "metadata": {},
   "source": [
    "Para a exclusão desses dados utilizaremos a função ``query`` e selecionados em nosso dataset somente os dados dos países para análise de comparação."
   ]
  },
  {
   "cell_type": "code",
   "execution_count": 14,
   "metadata": {},
   "outputs": [],
   "source": [
    "dados_covid = dados_covid.query(\"location not in @exclusao\")"
   ]
  },
  {
   "cell_type": "code",
   "execution_count": 15,
   "metadata": {},
   "outputs": [],
   "source": [
    "pessoas_vacinadas = dados_covid[['location','people_vaccinated']].groupby('location').sum().sort_values(by='people_vaccinated', ascending=False)\n",
    "percentual_pessoas_vacinadas = dados_covid[['location','people_vaccinated_per_hundred']].groupby('location').sum().sort_values(by='people_vaccinated_per_hundred', ascending=False)"
   ]
  },
  {
   "cell_type": "code",
   "execution_count": 16,
   "metadata": {},
   "outputs": [],
   "source": [
    "pessoas_vacinadas.index.name = 'pais'\n",
    "pessoas_vacinadas.columns = ['pessoas_vacinadas']\n",
    "percentual_pessoas_vacinadas.index.name = 'pais'\n",
    "percentual_pessoas_vacinadas.columns = ['percentual_pessoas_vacinadas']"
   ]
  },
  {
   "cell_type": "code",
   "execution_count": 17,
   "metadata": {},
   "outputs": [
    {
     "data": {
      "text/plain": [
       "pessoas_vacinadas   3.00\n",
       "Name: Brazil, dtype: float64"
      ]
     },
     "execution_count": 17,
     "metadata": {},
     "output_type": "execute_result"
    }
   ],
   "source": [
    "pessoas_vacinadas.rank(ascending=False).loc['Brazil']"
   ]
  },
  {
   "cell_type": "markdown",
   "metadata": {},
   "source": [
    "Com a função ``rank`` do pandas podemos verificar que o <b>Brasil</b> está em <b>3º lugar</b> em <b>números absolutos</b> de vacinação com relação a outros países do mundo."
   ]
  },
  {
   "cell_type": "code",
   "execution_count": 18,
   "metadata": {},
   "outputs": [
    {
     "data": {
      "text/plain": [
       "percentual_pessoas_vacinadas   51.00\n",
       "Name: Brazil, dtype: float64"
      ]
     },
     "execution_count": 18,
     "metadata": {},
     "output_type": "execute_result"
    }
   ],
   "source": [
    "percentual_pessoas_vacinadas.rank(ascending=False).loc['Brazil']"
   ]
  },
  {
   "cell_type": "markdown",
   "metadata": {},
   "source": [
    "Apesar do Brasil estar em <b> 3º lugar </b> em números absolutos, verificamos que ele está somente no <b> 51º lugar </b> ao contabilizarmos o percentual de pessoas vacinadas. "
   ]
  },
  {
   "cell_type": "code",
   "execution_count": 19,
   "metadata": {},
   "outputs": [],
   "source": [
    "paises_analise = ['England','United States','Israel','Brazil']\n",
    "comparando_paises = dados_covid[dados_covid['location'].isin(paises_analise)]\n",
    "comparando_paises = comparando_paises[['date','location','total_vaccinations_per_hundred']]\n",
    "comparando_paises.columns = ['data','pais','percentual_pessoas_vacinadas']\n",
    "comparando_paises = comparando_paises.set_index(['pais','data'])\n",
    "comparando_paises = comparando_paises.dropna()\n",
    "comparando_paises = comparando_paises.reset_index()\n",
    "comparando_paises = comparando_paises.set_index('data')"
   ]
  },
  {
   "cell_type": "code",
   "execution_count": 24,
   "metadata": {},
   "outputs": [],
   "source": [
    "comparando_paises['percentual_pessoas_vacinadas'].loc[(comparando_paises.pais == 'Israel') & (comparando_paises['percentual_pessoas_vacinadas'] < comparando_paises['percentual_pessoas_vacinadas'].rolling(window=3).mean())] = comparando_paises[(comparando_paises.pais == 'Israel') & (comparando_paises['percentual_pessoas_vacinadas'] < comparando_paises['percentual_pessoas_vacinadas'].mean())]['percentual_pessoas_vacinadas'].apply(lambda x: np.nan)\n",
    "comparando_paises['percentual_pessoas_vacinadas'].loc[(comparando_paises.pais == 'England') & (comparando_paises['percentual_pessoas_vacinadas'] < comparando_paises['percentual_pessoas_vacinadas'].rolling(window=3).mean())] = comparando_paises[(comparando_paises.pais == 'England') & (comparando_paises['percentual_pessoas_vacinadas'] < comparando_paises['percentual_pessoas_vacinadas'].mean())]['percentual_pessoas_vacinadas'].apply(lambda x: np.nan)\n",
    "comparando_paises['percentual_pessoas_vacinadas'].loc[(comparando_paises.pais == 'Brazil') & (comparando_paises['percentual_pessoas_vacinadas'] < comparando_paises['percentual_pessoas_vacinadas'].rolling(window=3).mean())] = comparando_paises[(comparando_paises.pais == 'Brazil') & (comparando_paises['percentual_pessoas_vacinadas'] < comparando_paises['percentual_pessoas_vacinadas'].mean())]['percentual_pessoas_vacinadas'].apply(lambda x: np.nan)\n",
    "comparando_paises['percentual_pessoas_vacinadas'].loc[(comparando_paises.pais == 'United States') & (comparando_paises['percentual_pessoas_vacinadas'] < comparando_paises['percentual_pessoas_vacinadas'].rolling(window=3).mean())] = comparando_paises[(comparando_paises.pais == 'United States') & (comparando_paises['percentual_pessoas_vacinadas'] < comparando_paises['percentual_pessoas_vacinadas'].mean())]['percentual_pessoas_vacinadas'].apply(lambda x: np.nan)"
   ]
  },
  {
   "cell_type": "code",
   "execution_count": 25,
   "metadata": {},
   "outputs": [],
   "source": [
    "comparando_paises['percentual_pessoas_vacinadas'] = comparando_paises['percentual_pessoas_vacinadas'].fillna(method='ffill')"
   ]
  },
  {
   "cell_type": "code",
   "execution_count": 26,
   "metadata": {},
   "outputs": [],
   "source": [
    "start_date = '2021-01-15'\n",
    "end_date = '2021-06-01'"
   ]
  },
  {
   "cell_type": "code",
   "execution_count": 27,
   "metadata": {},
   "outputs": [],
   "source": [
    "mask = (comparando_paises.index > start_date) & (comparando_paises.index <= end_date)"
   ]
  },
  {
   "cell_type": "code",
   "execution_count": 28,
   "metadata": {},
   "outputs": [],
   "source": [
    "comparando_paises = comparando_paises[mask]"
   ]
  },
  {
   "cell_type": "code",
   "execution_count": 55,
   "metadata": {
    "scrolled": true
   },
   "outputs": [
    {
     "data": {
      "image/png": "[encoded data removed]",
      "text/plain": [
       "<Figure size 720x576 with 1 Axes>"
      ]
     },
     "metadata": {
      "needs_background": "light"
     },
     "output_type": "display_data"
    }
   ],
   "source": [
    "plt.figure(figsize=(10,8))\n",
    "ax = sns.lineplot(data=comparando_paises, x=comparando_paises.index, y=\"percentual_pessoas_vacinadas\", hue=\"pais\")\n",
    "ax.legend(bbox_to_anchor=(0.8, 0.5, 0.5, 0.5),)\n",
    "plt.xticks(rotation=30)\n",
    "ax.yaxis.set_major_formatter(ticker.PercentFormatter())\n",
    "ax.set_title('Pessoas vacinadas contra Covid-19 de Jan à Jun de 2021 (Pencentual)', fontsize = 15)\n",
    "plt.grid(linestyle=\"--\")\n",
    "plt.show()"
   ]
  },
  {
   "cell_type": "markdown",
   "metadata": {},
   "source": [
    "No gráfico acima podemos visualizar a evolução da <b> percentual de pessoas vacinadas</b> no Brasil (azul) em relação com outros países, como <b>Estados Unidos</b> e <b>Inglaterra</b>, desde <b> janeiro</b> até começo de <b>junho de 2021</b>. E percebemos uma subida na vacinação, porém uma elevação mais gradual se comparada a esses países. "
   ]
  },
  {
   "cell_type": "code",
   "execution_count": 31,
   "metadata": {},
   "outputs": [],
   "source": [
    "mortes_cov_br = dados_covid[dados_covid['location'] == 'Brazil']"
   ]
  },
  {
   "cell_type": "code",
   "execution_count": 32,
   "metadata": {
    "scrolled": true
   },
   "outputs": [],
   "source": [
    "mortes_cov_br = mortes_cov_br[['date','new_deaths']]\n",
    "mortes_cov_br = mortes_cov_br[mortes_cov_br['new_deaths'] > 0]\n",
    "mortes_cov_br = mortes_cov_br.set_index('date')\n",
    "mortes_cov_br = mortes_cov_br.rolling(window=7).mean()"
   ]
  },
  {
   "cell_type": "code",
   "execution_count": 33,
   "metadata": {},
   "outputs": [],
   "source": [
    "start_date = '2021-01-01'\n",
    "end_date = '2021-06-01'\n",
    "\n",
    "mask = (mortes_cov_br.index > start_date) & (mortes_cov_br.index <= end_date)\n",
    "\n",
    "mortes_cov_br = mortes_cov_br[mask]"
   ]
  },
  {
   "cell_type": "code",
   "execution_count": 34,
   "metadata": {},
   "outputs": [
    {
     "name": "stderr",
     "output_type": "stream",
     "text": [
      "No handles with labels found to put in legend.\n"
     ]
    },
    {
     "data": {
      "image/png": "[encoded data removed]",
      "text/plain": [
       "<Figure size 720x576 with 1 Axes>"
      ]
     },
     "metadata": {
      "needs_background": "light"
     },
     "output_type": "display_data"
    }
   ],
   "source": [
    "plt.figure(figsize=(10,8))\n",
    "ax = sns.lineplot(data=mortes_cov_br, x=mortes_cov_br.index, y=\"new_deaths\")\n",
    "ax.legend(bbox_to_anchor=(0.8, 0.5, 0.5, 0.5),)\n",
    "plt.xticks(rotation=30)\n",
    "ax.set_title('Morte diária por Covid-19 de Jan à Jun de 2021 no Brasil', fontsize = 15)\n",
    "plt.grid(linestyle=\"--\")\n",
    "plt.show()"
   ]
  },
  {
   "cell_type": "markdown",
   "metadata": {},
   "source": [
    "No gráfico acima podemos visualizar uma queda forte na <b> média móvel</b> de números de mortes de Covid-19 do Brasil no período de <b>abril a junho de 2021</b>. "
   ]
  },
  {
   "cell_type": "code",
   "execution_count": 35,
   "metadata": {},
   "outputs": [],
   "source": [
    "mortes_covid_br = mortes_covid_br[['date','age_group','deaths_covid19']]"
   ]
  },
  {
   "cell_type": "code",
   "execution_count": 36,
   "metadata": {},
   "outputs": [],
   "source": [
    "mortes_covid_br.columns = ['data','faixa_etaria','mortes_covid']"
   ]
  },
  {
   "cell_type": "code",
   "execution_count": 37,
   "metadata": {},
   "outputs": [
    {
     "data": {
      "text/plain": [
       "array(['80-89', '30-39', '50-59', '9-', '90-99', '10-19', nan, '60-69',\n",
       "       '40-49', '70-79', '20-29', '100+'], dtype=object)"
      ]
     },
     "execution_count": 37,
     "metadata": {},
     "output_type": "execute_result"
    }
   ],
   "source": [
    "mortes_covid_br['faixa_etaria'].unique()"
   ]
  },
  {
   "cell_type": "code",
   "execution_count": 38,
   "metadata": {},
   "outputs": [],
   "source": [
    "def definir_faixa(faixa):\n",
    "    \n",
    "    if (faixa == '9-'):\n",
    "        faixa = '0-29'\n",
    "    elif (faixa == '10-19'):\n",
    "        faixa = '0-29'\n",
    "    elif (faixa == '20-29'):\n",
    "        faixa = '0-29'\n",
    "    elif (faixa == '80-89'):\n",
    "        faixa = '80+'\n",
    "    elif (faixa == '90-99'):\n",
    "        faixa = '80+'\n",
    "    elif (faixa == '100+'):\n",
    "        faixa = '80+'    \n",
    "    else: faixa\n",
    "    \n",
    "    return faixa"
   ]
  },
  {
   "cell_type": "code",
   "execution_count": 39,
   "metadata": {
    "scrolled": true
   },
   "outputs": [],
   "source": [
    "mortes_covid_br['faixa_etaria'] = mortes_covid_br['faixa_etaria'].apply(definir_faixa)"
   ]
  },
  {
   "cell_type": "code",
   "execution_count": 40,
   "metadata": {},
   "outputs": [
    {
     "data": {
      "text/plain": [
       "array(['80+', '30-39', '50-59', '0-29', nan, '60-69', '40-49', '70-79'],\n",
       "      dtype=object)"
      ]
     },
     "execution_count": 40,
     "metadata": {},
     "output_type": "execute_result"
    }
   ],
   "source": [
    "mortes_covid_br['faixa_etaria'].unique()"
   ]
  },
  {
   "cell_type": "code",
   "execution_count": 41,
   "metadata": {},
   "outputs": [],
   "source": [
    "mortes_covid_br = mortes_covid_br.groupby(['faixa_etaria','data']).sum()"
   ]
  },
  {
   "cell_type": "code",
   "execution_count": 42,
   "metadata": {},
   "outputs": [],
   "source": [
    "mortes_covid_br = mortes_covid_br[['mortes_covid']]"
   ]
  },
  {
   "cell_type": "code",
   "execution_count": 43,
   "metadata": {},
   "outputs": [],
   "source": [
    "mortes_covid_br = mortes_covid_br[mortes_covid_br > 0]\n",
    "mortes_covid_br = mortes_covid_br.dropna()"
   ]
  },
  {
   "cell_type": "code",
   "execution_count": 44,
   "metadata": {},
   "outputs": [],
   "source": [
    "mortes_covid_br = mortes_covid_br.rolling(window=7).mean()"
   ]
  },
  {
   "cell_type": "code",
   "execution_count": 45,
   "metadata": {},
   "outputs": [],
   "source": [
    "start_date = '2021-03-01'\n",
    "end_date = '2021-05-01'"
   ]
  },
  {
   "cell_type": "code",
   "execution_count": 46,
   "metadata": {},
   "outputs": [],
   "source": [
    "mortes_covid_br = mortes_covid_br.reset_index()"
   ]
  },
  {
   "cell_type": "code",
   "execution_count": 47,
   "metadata": {},
   "outputs": [],
   "source": [
    "mortes_covid_br = mortes_covid_br.set_index('data')"
   ]
  },
  {
   "cell_type": "code",
   "execution_count": 48,
   "metadata": {},
   "outputs": [],
   "source": [
    "start_date = '2021-01-01'\n",
    "end_date = '2021-06-01'"
   ]
  },
  {
   "cell_type": "code",
   "execution_count": 49,
   "metadata": {},
   "outputs": [],
   "source": [
    "mask = (mortes_covid_br.index > start_date) & (mortes_covid_br.index <= end_date)"
   ]
  },
  {
   "cell_type": "code",
   "execution_count": 50,
   "metadata": {},
   "outputs": [],
   "source": [
    "mortes_covid_br = mortes_covid_br[mask]"
   ]
  },
  {
   "cell_type": "code",
   "execution_count": 51,
   "metadata": {},
   "outputs": [
    {
     "data": {
      "image/png": "[encoded data removed]",
      "text/plain": [
       "<Figure size 864x576 with 1 Axes>"
      ]
     },
     "metadata": {
      "needs_background": "light"
     },
     "output_type": "display_data"
    }
   ],
   "source": [
    "plt.figure(figsize=(12,8))\n",
    "ax = sns.lineplot(data=mortes_covid_br, x='data', y=\"mortes_covid\", hue=\"faixa_etaria\" ,palette='Paired')\n",
    "ax.legend(bbox_to_anchor=(0.63, 0.5, 0.5, 0.5),)\n",
    "ax.set_title('Morte diária por Covid-19 de Jan à Jun de 2021 no Brasil (Por faixa etária)', fontsize = 15)\n",
    "plt.xticks(rotation=30)\n",
    "plt.grid(linestyle=\"--\")\n",
    "plt.show()"
   ]
  },
  {
   "cell_type": "markdown",
   "metadata": {},
   "source": [
    "No gráfico acima podemos visualizar uma queda acentuada nas mortes de pessoas com <b>mais de 50 anos </b> por Covid-19 do Brasil. Enquanto que as mortes de pessoas com <b> menos de 40 anos</b> se apresenta mais estável no período de abril até junho de 2021."
   ]
  },
  {
   "cell_type": "markdown",
   "metadata": {},
   "source": [
    "### 4.3. Conclusões"
   ]
  },
  {
   "cell_type": "markdown",
   "metadata": {},
   "source": [
    "- Esta análise demostra que a nossa vacinação está muito lenta. O que é uma tragédia, uma vez que nosso país é (ou era) <b> refêrencia </b> em vacinação no mundo. Poderíamos estar vacinando muito mais pessoas e salvando muito mais vidas.\n",
    "\n",
    "- Apesar da evolução lenta da vacinação no Brasil, podemos verificar um impacto significativo nas mortes por Covid-19, principalmente nas <b>faixas etárias vacinadas (pessoas com mais de 50 anos)</b>. "
   ]
  },
  {
   "cell_type": "markdown",
   "metadata": {},
   "source": [
    "## 5. Referências"
   ]
  },
  {
   "cell_type": "markdown",
   "metadata": {},
   "source": [
    "- [Our World in Data](https://ourworldindata.org/);\n",
    "- [Marcelo Oliveira](https://github.com/capyvara);\n",
    "- [Atila Iamarino](https://www.youtube.com/c/AtilaIamarino);\n",
    "- [Alura](https://www.alura.com.br/);\n",
    "- [Bootcamp Data Science Aplicada](https://www.alura.com.br/bootcamp/data-science-aplicada/matriculas-abertas);\n",
    "- [Portal da Transparência do Registro Cívil](https://transparencia.registrocivil.org.br/);\n",
    "- [Storytelling with Data](https://www.storytellingwithdata.com/);\n",
    "- [Seaborn](https://seaborn.pydata.org/);\n",
    "- [Numpy](https://numpy.org/](https://numpy.org/);\n",
    "- [Pandas](https://pandas.pydata.org/](https://pandas.pydata.org/);\n",
    "- [Matplotlib](https://matplotlib.org/](https://matplotlib.org/)"
   ]
  },
  {
   "cell_type": "markdown",
   "metadata": {},
   "source": [
    "## 6. Contatos"
   ]
  },
  {
   "cell_type": "markdown",
   "metadata": {},
   "source": [
    "Alguma dica, dúvida ou sugestão? Fique à vontade para contatar:\n",
    "\n",
    "- https://www.linkedin.com/in/diogo-miranda-de-azevedo-63758425/\n",
    "- https://github.com/diogoslz\n",
    "- diogonick@gmail.com"
   ]
  }
 ],
 "metadata": {
  "kernelspec": {
   "display_name": "Python 3",
   "language": "python",
   "name": "python3"
  },
  "language_info": {
   "codemirror_mode": {
    "name": "ipython",
    "version": 3
   },
   "file_extension": ".py",
   "mimetype": "text/x-python",
   "name": "python",
   "nbconvert_exporter": "python",
   "pygments_lexer": "ipython3",
   "version": "3.8.5"
  }
 },
 "nbformat": 4,
 "nbformat_minor": 4
}
